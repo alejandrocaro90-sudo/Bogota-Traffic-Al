# Bogotá Traffic AI - Modelo Prophet

# Instalación de librerías
!pip install pandas matplotlib prophet

# Importación
import pandas as pd
import matplotlib.pyplot as plt
from prophet import Prophet

# Carga de datos
url = 'https://your_data_source.csv'  # Reemplaza con tu fuente real
df = pd.read_csv(url)
df['fecha'] = pd.to_datetime(df['fecha'])
df = df[['fecha', 'aforo_vehicular']].dropna()
df.rename(columns={'fecha': 'ds', 'aforo_vehicular': 'y'}, inplace=True)

# Entrenamiento
modelo = Prophet()
modelo.fit(df)

# Predicción
futuro = modelo.make_future_dataframe(periods=48, freq='H')
forecast = modelo.predict(futuro)

# Visualización
modelo.plot(forecast)
plt.title('Predicción de tráfico con Prophet')
plt.show()
