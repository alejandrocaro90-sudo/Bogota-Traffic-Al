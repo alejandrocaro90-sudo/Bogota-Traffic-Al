# Bogotá Traffic AI - Modelo LSTM

# Instalación
!pip install pandas matplotlib tensorflow scikit-learn

# Importación
import pandas as pd
import numpy as np
import matplotlib.pyplot as plt
from sklearn.preprocessing import MinMaxScaler
from tensorflow.keras.models import Sequential
from tensorflow.keras.layers import LSTM, Dense

# Carga de datos
df = pd.read_csv('https://your_data_source.csv')  # Reemplaza con tu fuente real
df['fecha'] = pd.to_datetime(df['fecha'])
df = df[['fecha', 'aforo_vehicular']].dropna()

# Escalado
scaler = MinMaxScaler()
serie = scaler.fit_transform(df[['aforo_vehicular']])

# Ventanas de tiempo
X, y = [], []
for i in range(24, len(serie)):
    X.append(serie[i-24:i])
    y.append(serie[i])
X, y = np.array(X), np.array(y)

# Modelo
model = Sequential([
    LSTM(50, activation='relu', input_shape=(24, 1)),
    Dense(1)
])
model.compile(optimizer='adam', loss='mse')
model.fit(X, y, epochs=10)

# Predicción
pred = model.predict(X[-48:])
plt.plot(scaler.inverse_transform(pred), label='LSTM')
plt.plot(df['aforo_vehicular'].values[-48:], label='Real')
plt.legend()
plt.title('Predicción de tráfico con LSTM')
plt.show()
